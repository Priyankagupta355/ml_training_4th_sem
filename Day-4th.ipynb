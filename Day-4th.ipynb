{
 "cells": [
  {
   "cell_type": "markdown",
   "id": "a659c418",
   "metadata": {},
   "source": [
    "# modules vs packages vs libraries\n",
    "\n",
    "1. module : a single file tha contains python code . (with extention .py) it can define function,classes,variables\n",
    "2. packages : A collection of python module organised in a directory hierarchy . \n",
    "3. libraries : A collection of related module and package that provide specific funtionality ."
   ]
  },
  {
   "cell_type": "markdown",
   "id": "bdde520d",
   "metadata": {},
   "source": [
    "Modules \n",
    "# builtin  ,  # userdefined module  ,  # third party "
   ]
  },
  {
   "cell_type": "code",
   "execution_count": 2,
   "id": "0634a06a",
   "metadata": {},
   "outputs": [
    {
     "data": {
      "text/plain": [
       "'/Users/priyanshubansal/developer/training/training_material'"
      ]
     },
     "execution_count": 2,
     "metadata": {},
     "output_type": "execute_result"
    }
   ],
   "source": [
    "import os \n",
    "os.getcwd()\n"
   ]
  },
  {
   "cell_type": "code",
   "execution_count": 4,
   "id": "75dfb6c1",
   "metadata": {},
   "outputs": [
    {
     "data": {
      "text/plain": [
       "['02_day.ipynb',\n",
       " '03_training.ipynb',\n",
       " '04_training.ipynb',\n",
       " '01_training.py',\n",
       " '.ipynb_checkpoints']"
      ]
     },
     "execution_count": 4,
     "metadata": {},
     "output_type": "execute_result"
    }
   ],
   "source": [
    "os.listdir()"
   ]
  },
  {
   "cell_type": "code",
   "execution_count": 8,
   "id": "7b5ad87d",
   "metadata": {},
   "outputs": [],
   "source": [
    "os.chdir(r\"/Users/priyanshubansal/Documents/cpp\")"
   ]
  },
  {
   "cell_type": "code",
   "execution_count": null,
   "id": "cb08bfcb",
   "metadata": {},
   "outputs": [
    {
     "data": {
      "text/plain": [
       "'/Users/priyanshubansal/Documents/cpp'"
      ]
     },
     "execution_count": 9,
     "metadata": {},
     "output_type": "execute_result"
    }
   ],
   "source": [
    "os.getcwd() # to get the current working directory "
   ]
  },
  {
   "cell_type": "code",
   "execution_count": null,
   "id": "beb16765",
   "metadata": {},
   "outputs": [],
   "source": [
    "os.mkdir(\"test1\")  # to create a file"
   ]
  },
  {
   "cell_type": "code",
   "execution_count": null,
   "id": "de7eb5c5",
   "metadata": {},
   "outputs": [],
   "source": [
    "os.makedirs(\"parentf/childf\")  # to create file with folder "
   ]
  },
  {
   "cell_type": "code",
   "execution_count": null,
   "id": "4daac0a0",
   "metadata": {},
   "outputs": [],
   "source": [
    "os.rmdir(\"test1\")  # to remove an empty file "
   ]
  },
  {
   "cell_type": "code",
   "execution_count": null,
   "id": "9ef1bd97",
   "metadata": {},
   "outputs": [],
   "source": [
    "from lst import add "
   ]
  },
  {
   "cell_type": "markdown",
   "id": "f8b0c6b4",
   "metadata": {},
   "source": [
    "# exception handling \n",
    " 1. try \n",
    " 2. exception \n",
    " 3. else \n",
    " 4. finally"
   ]
  },
  {
   "cell_type": "code",
   "execution_count": 6,
   "id": "1f05f4e7",
   "metadata": {},
   "outputs": [
    {
     "name": "stdout",
     "output_type": "stream",
     "text": [
      "error\n",
      "by\n"
     ]
    }
   ],
   "source": [
    "try :\n",
    "    print(10/0)\n",
    "except Exception as e:\n",
    "    print(\"error\")\n",
    "else :\n",
    "    print(\"code is ok\")\n",
    "finally:\n",
    "    print(\"by\")\n",
    "\n",
    "\n",
    "\n"
   ]
  },
  {
   "cell_type": "markdown",
   "id": "b888f5ac",
   "metadata": {},
   "source": [
    "## file handling \n",
    "\n",
    "# modes \n",
    "1. r -- read -> open the file in reading\n",
    "2. w -- write -> open file to write (overwrite)\n",
    "3. a -- append -> open file to write (from end)\n",
    "4. b --  binary files\n",
    "5. + -- read and write "
   ]
  },
  {
   "cell_type": "code",
   "execution_count": 9,
   "id": "4213f3ee",
   "metadata": {},
   "outputs": [
    {
     "name": "stdout",
     "output_type": "stream",
     "text": [
      "hello\n",
      "hi\n",
      "\n"
     ]
    }
   ],
   "source": [
    "file = open(\"demo.txt\",\"r\")\n",
    "print(file.read())\n",
    "file.close()"
   ]
  },
  {
   "cell_type": "code",
   "execution_count": null,
   "id": "921d51c8",
   "metadata": {},
   "outputs": [
    {
     "name": "stdout",
     "output_type": "stream",
     "text": [
      "['hello\\n', 'hi\\n']\n"
     ]
    }
   ],
   "source": [
    "## with stateement -- no need to close file\n",
    "\n",
    "with open(\"demo.txt\",\"r\") as file:\n",
    "    #print(file.read())\n",
    "    #print(file.readline())\n",
    "    print(file.readlines())   #read lines and return in form of list"
   ]
  },
  {
   "cell_type": "code",
   "execution_count": 19,
   "id": "9999403e",
   "metadata": {},
   "outputs": [],
   "source": [
    "with open(\"demo.txt\",\"w\") as file:\n",
    "    file.write(\"namaste\")\n",
    "   # file.writelines([\"line1 \\n\",\"line2 \\n\"])"
   ]
  },
  {
   "cell_type": "code",
   "execution_count": 22,
   "id": "6302aa5d",
   "metadata": {},
   "outputs": [],
   "source": [
    "### json file\n",
    "import json\n",
    "data = {\n",
    "    \"name\" : \"upflairs\",\n",
    "    \"year\" : 2023\n",
    "}\n",
    "with open (\"data,json\",\"w\") as file :\n",
    "    json.dump(data,file)\n"
   ]
  },
  {
   "cell_type": "code",
   "execution_count": null,
   "id": "ac86abd3",
   "metadata": {},
   "outputs": [],
   "source": [
    "with open(\"data.json\",\"r\") as file:\n",
    "    content = json.load(file)\n",
    "    print(content)\n"
   ]
  },
  {
   "cell_type": "markdown",
   "id": "46aa8f30",
   "metadata": {},
   "source": [
    "## oops \n",
    "#class , object , inheritence , polymorphism , encapsulation , abstraction"
   ]
  },
  {
   "cell_type": "code",
   "execution_count": null,
   "id": "30edb3fa",
   "metadata": {},
   "outputs": [],
   "source": [
    "class car:\n",
    "    ## class variable \n",
    "    name = \"prianshu\"\n",
    "    year = 2004\n",
    "\n",
    "def __init__(self,name,year):  # constructor/initialiser  -> call member varialbles\n",
    "   # instance variables \n",
    "    self.name = name \n",
    "    self.year = year\n",
    "    ## method\n",
    "    def display(self):\n",
    "        print(\"car name\", self.name)\n",
    "\n",
    "    obj = car(merc , 1980)\n",
    "    obj.display()\n"
   ]
  },
  {
   "cell_type": "markdown",
   "id": "8611f9b9",
   "metadata": {},
   "source": [
    "## inheritence \n",
    "1. single \n",
    "2. multiple\n",
    "3. multilevel\n",
    "4. hierarchial\n",
    "5. hybrid "
   ]
  },
  {
   "cell_type": "code",
   "execution_count": null,
   "id": "d6c337c7",
   "metadata": {},
   "outputs": [],
   "source": [
    "class person :\n",
    "    def __init__(self,name):\n",
    "        self.name = name \n",
    "\n",
    "class employee(person):   # we are inheriting name from parent class \n",
    "    def __init__(self,name,salary):\n",
    "        super().__init__(name)\n",
    "        self.salary = salary        "
   ]
  }
 ],
 "metadata": {
  "kernelspec": {
   "display_name": "notebookenv",
   "language": "python",
   "name": "python3"
  },
  "language_info": {
   "codemirror_mode": {
    "name": "ipython",
    "version": 3
   },
   "file_extension": ".py",
   "mimetype": "text/x-python",
   "name": "python",
   "nbconvert_exporter": "python",
   "pygments_lexer": "ipython3",
   "version": "3.13.2"
  }
 },
 "nbformat": 4,
 "nbformat_minor": 5
}
