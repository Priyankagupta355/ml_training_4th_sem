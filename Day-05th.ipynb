{
 "cells": [
  {
   "cell_type": "code",
   "execution_count": 1,
   "id": "4c1846d8",
   "metadata": {},
   "outputs": [],
   "source": [
    "import numpy as np"
   ]
  },
  {
   "cell_type": "code",
   "execution_count": 2,
   "id": "b4372c80",
   "metadata": {},
   "outputs": [
    {
     "name": "stdout",
     "output_type": "stream",
     "text": [
      "[1 2 3 4]\n",
      "[1, 2, 3, 4]\n"
     ]
    }
   ],
   "source": [
    "lst = [1, 2, 3, 4]\n",
    "arr = np.array([1,2,3,4])\n",
    "# print(arr)\n",
    "print(arr)\n",
    "print(lst)"
   ]
  },
  {
   "cell_type": "code",
   "execution_count": 3,
   "id": "fe0d8029",
   "metadata": {},
   "outputs": [
    {
     "name": "stdout",
     "output_type": "stream",
     "text": [
      "[1 2 3 4 5 6 7 8 9]\n"
     ]
    }
   ],
   "source": [
    "arr2 = np.arange(1,10)\n",
    "print(arr2)"
   ]
  },
  {
   "cell_type": "code",
   "execution_count": 4,
   "id": "a1e35463",
   "metadata": {},
   "outputs": [
    {
     "name": "stdout",
     "output_type": "stream",
     "text": [
      "[0. 0. 0.]\n",
      "[1. 1. 1. 1. 1. 1. 1.]\n"
     ]
    }
   ],
   "source": [
    "print(np.zeros(3))\n",
    "print(np.ones(7))"
   ]
  },
  {
   "cell_type": "code",
   "execution_count": 5,
   "id": "52614c8b",
   "metadata": {},
   "outputs": [
    {
     "data": {
      "text/plain": [
       "array([ 1. ,  1.5,  2. ,  2.5,  3. ,  3.5,  4. ,  4.5,  5. ,  5.5,  6. ,\n",
       "        6.5,  7. ,  7.5,  8. ,  8.5,  9. ,  9.5, 10. ])"
      ]
     },
     "execution_count": 5,
     "metadata": {},
     "output_type": "execute_result"
    }
   ],
   "source": [
    "np.linspace(1,10,19)\n"
   ]
  },
  {
   "cell_type": "markdown",
   "id": "74685c90",
   "metadata": {},
   "source": [
    "## 2d array \n",
    "- 2d array is a collection of data elements arranged in rows and columns.\n",
    "- 2d array is also called as matrix."
   ]
  },
  {
   "cell_type": "code",
   "execution_count": 6,
   "id": "95f951e0",
   "metadata": {},
   "outputs": [
    {
     "name": "stdout",
     "output_type": "stream",
     "text": [
      "[[0. 0. 0.]\n",
      " [0. 0. 0.]]\n",
      "[[1 2 3]\n",
      " [4 5 6]\n",
      " [7 8 9]]\n",
      "[[[ 1  2  3  4  5]\n",
      "  [ 6  7  8  9 10]]\n",
      "\n",
      " [[11 12 13 14 15]\n",
      "  [16 17 18 19 20]]\n",
      "\n",
      " [[21 22 23 24 25]\n",
      "  [26 27 28 29 30]]]\n"
     ]
    }
   ],
   "source": [
    "arr4 = np.array([[1,2,3],\n",
    "                 [4,5,6],\n",
    "                 [7,8,9]])\n",
    "print(np.zeros((2,3)))\n",
    "print(arr4)\n",
    "\n",
    "arr5 = np.arange(1,31).reshape(3,2,5)\n",
    "print(arr5)"
   ]
  },
  {
   "cell_type": "code",
   "execution_count": 7,
   "id": "632405c9",
   "metadata": {},
   "outputs": [
    {
     "data": {
      "text/plain": [
       "array([[38, 44, 31, 51, 56,  2, 59, 42,  4, 24],\n",
       "       [ 3, 25, 57,  7, 34,  5, 46, 53, 38, 13],\n",
       "       [12, 51, 18, 43, 33, 55, 38, 38, 59, 21],\n",
       "       [53, 31, 25, 53, 39,  6, 35, 16, 42,  3],\n",
       "       [31, 42, 24, 57, 33, 48, 28, 34, 48, 19],\n",
       "       [45, 41, 59, 56,  0, 30, 20, 14, 55, 17]])"
      ]
     },
     "execution_count": 7,
     "metadata": {},
     "output_type": "execute_result"
    }
   ],
   "source": [
    "arr6 = np.random.randint(0,60,(6,10))\n",
    "# .reshape(5,2)\n",
    "arr6"
   ]
  },
  {
   "cell_type": "code",
   "execution_count": 8,
   "id": "37c27323",
   "metadata": {},
   "outputs": [
    {
     "name": "stdout",
     "output_type": "stream",
     "text": [
      "[[ 0  1  2  3  4]\n",
      " [ 5  6  7  8  9]\n",
      " [10 11 12 13 14]\n",
      " [15 16 17 18 19]\n",
      " [20 21 22 23 24]\n",
      " [25 26 27 28 29]\n",
      " [30 31 32 33 34]\n",
      " [35 36 37 38 39]\n",
      " [40 41 42 43 44]\n",
      " [45 46 47 48 49]\n",
      " [50 51 52 53 54]\n",
      " [55 56 57 58 59]]\n"
     ]
    }
   ],
   "source": [
    "arr7 = np.arange(60).reshape(12,5)\n",
    "print(arr7)"
   ]
  },
  {
   "cell_type": "code",
   "execution_count": 9,
   "id": "adca27cb",
   "metadata": {},
   "outputs": [
    {
     "data": {
      "text/plain": [
       "60"
      ]
     },
     "execution_count": 9,
     "metadata": {},
     "output_type": "execute_result"
    }
   ],
   "source": [
    "arr7.shape # retruns the shape of array in tuple\n",
    "arr4.dtype # datatype of elements of array\n",
    "arr6.ndim # dimentions of array\n",
    "arr7.size # returns number of total elements row*column*dim"
   ]
  },
  {
   "cell_type": "code",
   "execution_count": 10,
   "id": "88bff3f9",
   "metadata": {},
   "outputs": [
    {
     "data": {
      "text/plain": [
       "array([[[ 1, 34, 67],\n",
       "        [12, 45, 78],\n",
       "        [23, 56, 89]],\n",
       "\n",
       "       [[ 2, 35, 68],\n",
       "        [13, 46, 79],\n",
       "        [24, 57, 90]],\n",
       "\n",
       "       [[ 3, 36, 69],\n",
       "        [14, 47, 80],\n",
       "        [25, 58, 91]],\n",
       "\n",
       "       [[ 4, 37, 70],\n",
       "        [15, 48, 81],\n",
       "        [26, 59, 92]],\n",
       "\n",
       "       [[ 5, 38, 71],\n",
       "        [16, 49, 82],\n",
       "        [27, 60, 93]],\n",
       "\n",
       "       [[ 6, 39, 72],\n",
       "        [17, 50, 83],\n",
       "        [28, 61, 94]],\n",
       "\n",
       "       [[ 7, 40, 73],\n",
       "        [18, 51, 84],\n",
       "        [29, 62, 95]],\n",
       "\n",
       "       [[ 8, 41, 74],\n",
       "        [19, 52, 85],\n",
       "        [30, 63, 96]],\n",
       "\n",
       "       [[ 9, 42, 75],\n",
       "        [20, 53, 86],\n",
       "        [31, 64, 97]],\n",
       "\n",
       "       [[10, 43, 76],\n",
       "        [21, 54, 87],\n",
       "        [32, 65, 98]],\n",
       "\n",
       "       [[11, 44, 77],\n",
       "        [22, 55, 88],\n",
       "        [33, 66, 99]]])"
      ]
     },
     "execution_count": 10,
     "metadata": {},
     "output_type": "execute_result"
    }
   ],
   "source": [
    "arr8 = np.arange(1,100).reshape(3,3,11)\n",
    "# arr9 = arr8.flatten()\n",
    "arr8.T # to transpose the n-D array"
   ]
  },
  {
   "cell_type": "code",
   "execution_count": 11,
   "id": "175cdcea",
   "metadata": {},
   "outputs": [
    {
     "data": {
      "text/plain": [
       "array([4, 3, 2, 1])"
      ]
     },
     "execution_count": 11,
     "metadata": {},
     "output_type": "execute_result"
    }
   ],
   "source": [
    "arr[::-1]\n"
   ]
  },
  {
   "cell_type": "markdown",
   "id": "ce3ace8c",
   "metadata": {},
   "source": [
    "### slicing in Multidimensional array\n",
    "- Slicing in multidimensional array is similar to slicing in 1d array.\n",
    "- The only difference is that we need to specify the row and column index.\n",
    "- The syntax for slicing in multidimensional array is as follows:\n",
    "```python\n",
    "array[row_start:row_end, column_start:column_end]\n",
    "```\n",
    "- The row_start and row_end are the starting and ending index of the rows.\n",
    "- The column_start and column_end are the starting and ending index of the columns.\n",
    "- The row_start and column_start are inclusive and the row_end and column_end are exclusive.\n",
    "- The row_start and column_end are optional.\n",
    "- If we do not specify the row_start and column_start, then it will take the default value as 0.\n",
    "- If we do not specify the row_end and column_end, then it will take the default value as the length of the array.\n",
    "- The row_end and column_end are exclusive.\n",
    "- The row_start and column_start are inclusive.\n",
    "- ex -\n",
    "```python\n",
    "import numpy as np\n",
    "a = np.array([[1, 2, 3], [4, 5, 6], [7, 8, 9]])\n",
    "print(a[0:2, 1:3])\n",
    "```\n",
    "- The above code will print the following output:\n",
    "```\n",
    "[[2 3]\n",
    " [5 6]]\n",
    "```"
   ]
  },
  {
   "cell_type": "code",
   "execution_count": 12,
   "id": "37e47ff9",
   "metadata": {},
   "outputs": [
    {
     "data": {
      "text/plain": [
       "array([[[ 1,  3],\n",
       "        [ 6,  8]],\n",
       "\n",
       "       [[11, 13],\n",
       "        [16, 18]]])"
      ]
     },
     "execution_count": 12,
     "metadata": {},
     "output_type": "execute_result"
    }
   ],
   "source": [
    "arr5[:2,:2,:3:2]\n"
   ]
  },
  {
   "cell_type": "code",
   "execution_count": 13,
   "id": "063a6f1e",
   "metadata": {},
   "outputs": [
    {
     "data": {
      "text/plain": [
       "array([[[  1,   2,   3,   4,   5,   6,   7,   8,   9,  10],\n",
       "        [ 11,  12,  13,  14,  15,  16,  17,  18,  19,  20],\n",
       "        [ 21,  22,  23,  24,  25,  26,  27,  28,  29,  30],\n",
       "        [ 31,  32,  33,  34,  35,  36,  37,  38,  39,  40],\n",
       "        [ 41,  42,  43,  44,  45,  46,  47,  48,  49,  50]],\n",
       "\n",
       "       [[ 51,  52,  53,  54,  55,  56,  57,  58,  59,  60],\n",
       "        [ 61,  62,  63,  64,  65,  66,  67,  68,  69,  70],\n",
       "        [ 71,  72,  73,  74,  75,  76,  77,  78,  79,  80],\n",
       "        [ 81,  82,  83,  84,  85,  86,  87,  88,  89,  90],\n",
       "        [ 91,  92,  93,  94,  95,  96,  97,  98,  99, 100]],\n",
       "\n",
       "       [[101, 102, 103, 104, 105, 106, 107, 108, 109, 110],\n",
       "        [111, 112, 113, 114, 115, 116, 117, 118, 119, 120],\n",
       "        [121, 122, 123, 124, 125, 126, 127, 128, 129, 130],\n",
       "        [131, 132, 133, 134, 135, 136, 137, 138, 139, 140],\n",
       "        [141, 142, 143, 144, 145, 146, 147, 148, 149, 150]],\n",
       "\n",
       "       [[151, 152, 153, 154, 155, 156, 157, 158, 159, 160],\n",
       "        [161, 162, 163, 164, 165, 166, 167, 168, 169, 170],\n",
       "        [171, 172, 173, 174, 175, 176, 177, 178, 179, 180],\n",
       "        [181, 182, 183, 184, 185, 186, 187, 188, 189, 190],\n",
       "        [191, 192, 193, 194, 195, 196, 197, 198, 199, 200]]])"
      ]
     },
     "execution_count": 13,
     "metadata": {},
     "output_type": "execute_result"
    }
   ],
   "source": [
    "# creating a 3D array\n",
    "array3D = np.arange(1,201).reshape(4,5,10)\n",
    "array3D"
   ]
  },
  {
   "cell_type": "code",
   "execution_count": 14,
   "id": "19798e1a",
   "metadata": {},
   "outputs": [
    {
     "name": "stdout",
     "output_type": "stream",
     "text": [
      "[[[  3]]\n",
      "\n",
      " [[ 53]]\n",
      "\n",
      " [[103]]\n",
      "\n",
      " [[153]]]\n",
      "[[[ 50  49  48  47  46  45  44  43  42  41]\n",
      "  [ 40  39  38  37  36  35  34  33  32  31]\n",
      "  [ 30  29  28  27  26  25  24  23  22  21]\n",
      "  [ 20  19  18  17  16  15  14  13  12  11]\n",
      "  [ 10   9   8   7   6   5   4   3   2   1]]\n",
      "\n",
      " [[100  99  98  97  96  95  94  93  92  91]\n",
      "  [ 90  89  88  87  86  85  84  83  82  81]\n",
      "  [ 80  79  78  77  76  75  74  73  72  71]\n",
      "  [ 70  69  68  67  66  65  64  63  62  61]\n",
      "  [ 60  59  58  57  56  55  54  53  52  51]]\n",
      "\n",
      " [[150 149 148 147 146 145 144 143 142 141]\n",
      "  [140 139 138 137 136 135 134 133 132 131]\n",
      "  [130 129 128 127 126 125 124 123 122 121]\n",
      "  [120 119 118 117 116 115 114 113 112 111]\n",
      "  [110 109 108 107 106 105 104 103 102 101]]\n",
      "\n",
      " [[200 199 198 197 196 195 194 193 192 191]\n",
      "  [190 189 188 187 186 185 184 183 182 181]\n",
      "  [180 179 178 177 176 175 174 173 172 171]\n",
      "  [170 169 168 167 166 165 164 163 162 161]\n",
      "  [160 159 158 157 156 155 154 153 152 151]]]\n"
     ]
    }
   ],
   "source": [
    "# print(array3D[:-1,:-2,-5:])\n",
    "print(array3D[:,:1,2:3])\n",
    "print(array3D[:,::-1,::-1])"
   ]
  }
 ],
 "metadata": {
  "kernelspec": {
   "display_name": "notebookenv",
   "language": "python",
   "name": "python3"
  },
  "language_info": {
   "codemirror_mode": {
    "name": "ipython",
    "version": 3
   },
   "file_extension": ".py",
   "mimetype": "text/x-python",
   "name": "python",
   "nbconvert_exporter": "python",
   "pygments_lexer": "ipython3",
   "version": "3.13.2"
  }
 },
 "nbformat": 4,
 "nbformat_minor": 5
}
